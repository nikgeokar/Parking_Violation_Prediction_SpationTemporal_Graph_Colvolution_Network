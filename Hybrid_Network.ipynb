{
 "cells": [
  {
   "cell_type": "markdown",
   "metadata": {
    "papermill": {
     "duration": 0.016367,
     "end_time": "2021-12-26T14:44:36.867084",
     "exception": false,
     "start_time": "2021-12-26T14:44:36.850717",
     "status": "completed"
    },
    "tags": []
   },
   "source": [
    "<h1>\n",
    "<center>Hybrid Network [A3TGCN + LSTM]</center>\n",
    "</h1>"
   ]
  },
  {
   "cell_type": "code",
   "execution_count": null,
   "metadata": {
    "execution": {
     "iopub.execute_input": "2021-12-26T14:44:28.669393Z",
     "iopub.status.busy": "2021-12-26T14:44:28.668621Z",
     "iopub.status.idle": "2021-12-26T14:44:36.833339Z",
     "shell.execute_reply": "2021-12-26T14:44:36.832761Z",
     "shell.execute_reply.started": "2021-12-26T14:27:21.629074Z"
    },
    "papermill": {
     "duration": 8.187854,
     "end_time": "2021-12-26T14:44:36.833462",
     "exception": false,
     "start_time": "2021-12-26T14:44:28.645608",
     "status": "completed"
    },
    "tags": []
   },
   "outputs": [],
   "source": [
    "\n",
    "import numpy as np\n",
    "from torch_geometric_temporal.signal import StaticGraphTemporalSignal\n",
    "import tensorflow as tf\n",
    "import pandas as pd\n",
    "import pickle\n",
    "import torch\n",
    "import torch.nn.functional as F\n",
    "from torch_geometric_temporal.nn.recurrent import A3TGCN2, DCRNN, TGCN2, TGCN,  GConvGRU, GConvLSTM, GCLSTM, A3TGCN\n",
    "from torch.nn import Linear\n",
    "from torch.nn import ReLU\n",
    "import torch.nn as nn\n",
    "from torch.nn.init import kaiming_uniform_\n",
    "from tqdm import tqdm\n",
    "from calflops import calculate_flops\n",
    "from fvcore.nn import FlopCountAnalysis, parameter_count_table\n",
    "\n",
    "Project_Path='Project-Path'"
   ]
  },
  {
   "cell_type": "markdown",
   "metadata": {},
   "source": [
    "### Input data"
   ]
  },
  {
   "cell_type": "code",
   "execution_count": null,
   "metadata": {},
   "outputs": [],
   "source": [
    "def Get_Paths(Project_Path):\n",
    "    TestDataset=Project_Path+ '/Data/Test_Dataset_Graph.pkl'\n",
    "    TestTargets=Project_Path+ '/Data/Test_Rate_Timeseries.csv'\n",
    "    TestMask=Project_Path+ '/Data/Test_Mask.csv'\n",
    "    TrainDataset =Project_Path+ '/Data/Dataset_Graph.pkl'\n",
    "    TrainTargets=Project_Path+ '/Data/STS_Rate_Timeseries.csv'\n",
    "    return TestDataset,TestTargets,TestMask,TrainDataset,TrainTargets"
   ]
  },
  {
   "cell_type": "markdown",
   "metadata": {},
   "source": [
    "### Edges & edge weights"
   ]
  },
  {
   "cell_type": "code",
   "execution_count": null,
   "metadata": {},
   "outputs": [],
   "source": [
    "def edge_weights(Project_Path):\n",
    "    path = Project_Path+'/Data/EdgesDuration250.csv'\n",
    "    weights = 'Duration'\n",
    "    Edge_List=pd.read_csv(path,sep=',', index_col=0)\n",
    "    Distance=np.array(Edge_List[weights])\n",
    "    print(Distance.shape)\n",
    "    Edge_List=Edge_List.drop([weights], axis=1)\n",
    "    Edges=np.array(Edge_List)\n",
    "    Edges=Edges.T\n",
    "    print(Edges.shape)\n",
    "    return Edges,Distance"
   ]
  },
  {
   "cell_type": "code",
   "execution_count": null,
   "metadata": {},
   "outputs": [],
   "source": [
    "TestDataset,TestTargets,TestMask,TrainDataset,TrainTargets=Get_Paths(Project_Path)\n",
    "Edges,Distance=edge_weights(Project_Path)"
   ]
  },
  {
   "cell_type": "markdown",
   "metadata": {},
   "source": [
    "## Static Graph Temporal Signal"
   ]
  },
  {
   "cell_type": "code",
   "execution_count": null,
   "metadata": {},
   "outputs": [],
   "source": [
    "with open(TrainDataset, 'rb') as inp:\n",
    "    Train_Dataset = pickle.load(inp)\n",
    "Name=['Date_Sin','Holidays','Capacity','temp','humidity','Week_Day_Sin','Month_Sin','Real_Time','Γενικό Νοσοκομείο Θεσσαλονίκης «Γ. Γεννηματάς»', 'Λιμάνι' ,'Δημαρχείο Θεσσαλονίκης','Λευκός Πύργος','Αγορά Καπάνι','Λαδάδικα','Πλατεία Άθωνος','Πλατεία Αριστοτέλους','Ροτόντα','Πλατεία Αγίας Σοφίας','Πλατεία Αντιγονιδών','Μουσείο Μακεδονικού Αγώνα','Πλατεία Ναυαρίνου','Πάρκο ΧΑΝΘ','Ιερός Ναός Αγίου Δημητρίου','ΔΕΘ','ΑΠΘ','Άγαλμα Ελευθερίου Βενιζέλου','Ρωμαϊκή Αγορά Θεσσαλονίκης','Predictions']\n",
    "for i in range (0,len(Train_Dataset)):\n",
    "    Train_Dataset[i]=Train_Dataset[i].sort_values(\"Slot_id\")\n",
    "    Train_Dataset[i]=Train_Dataset[i].reset_index()\n",
    "    Train_Dataset[i]=Train_Dataset[i].drop(['index'], axis=1)\n",
    "    Train_Dataset[i]=Train_Dataset[i][Name]\n",
    "\n",
    "\n",
    "Rate_Timeseries=np.array(Train_Dataset)\n",
    "Rate_Timeseries=np.reshape(Rate_Timeseries, (len(Train_Dataset), 222,28,1))\n",
    "print(Rate_Timeseries.shape)\n",
    "\n",
    "Target=pd.read_csv(TrainTargets,sep=',', index_col=0)\n",
    "Target=np.array(Target)\n",
    "Target=Target.T\n",
    "Target=np.reshape(Target, (len(Train_Dataset), 222,1))\n",
    "print(Target.shape)\n",
    "\n",
    "graTrain=StaticGraphTemporalSignal(edge_index=Edges,edge_weight=Distance,features=Rate_Timeseries,targets=Target)\n",
    "print(\"Dataset type:  \", graTrain)\n",
    "print(next(iter(graTrain)))"
   ]
  },
  {
   "cell_type": "code",
   "execution_count": null,
   "metadata": {},
   "outputs": [],
   "source": [
    "with open(TestDataset, 'rb') as inp:\n",
    "    Test_Dataset = pickle.load(inp)\n",
    "Name=['Date_Sin','Holidays','Capacity','temp','humidity','Week_Day_Sin','Month_Sin','Real_Time','Γενικό Νοσοκομείο Θεσσαλονίκης «Γ. Γεννηματάς»', 'Λιμάνι' ,'Δημαρχείο Θεσσαλονίκης','Λευκός Πύργος','Αγορά Καπάνι','Λαδάδικα','Πλατεία Άθωνος','Πλατεία Αριστοτέλους','Ροτόντα','Πλατεία Αγίας Σοφίας','Πλατεία Αντιγονιδών','Μουσείο Μακεδονικού Αγώνα','Πλατεία Ναυαρίνου','Πάρκο ΧΑΝΘ','Ιερός Ναός Αγίου Δημητρίου','ΔΕΘ','ΑΠΘ','Άγαλμα Ελευθερίου Βενιζέλου','Ρωμαϊκή Αγορά Θεσσαλονίκης','Predictions']\n",
    "for i in range (0,len(Test_Dataset)):\n",
    "    Test_Dataset[i]=Test_Dataset[i].sort_values(\"Slot_id\")\n",
    "    Test_Dataset[i]=Test_Dataset[i].reset_index()\n",
    "    Test_Dataset[i]=Test_Dataset[i].drop(['index'], axis=1)\n",
    "    Test_Dataset[i]=Test_Dataset[i][Name]\n",
    "\n",
    "Rate_Timeseries=np.array(Test_Dataset)\n",
    "Rate_Timeseries=np.reshape(Rate_Timeseries, (len(Test_Dataset), 222,28,1))\n",
    "print(Rate_Timeseries.shape)\n",
    "\n",
    "Target=pd.read_csv(TestTargets,sep=',', index_col=0)\n",
    "\n",
    "Target=np.array(Target)\n",
    "Target=Target.T\n",
    "Target=np.reshape(Target, (len(Test_Dataset), 222,1))\n",
    "print(Target.shape)\n",
    "\n",
    "graTest=StaticGraphTemporalSignal(edge_index=Edges,edge_weight=Distance,features=Rate_Timeseries,targets=Target)\n",
    "print(\"Dataset type:  \", graTest)\n",
    "print(next(iter(graTest)))"
   ]
  },
  {
   "cell_type": "markdown",
   "metadata": {
    "papermill": {
     "duration": 0.033697,
     "end_time": "2021-12-26T14:44:43.929710",
     "exception": false,
     "start_time": "2021-12-26T14:44:43.896013",
     "status": "completed"
    },
    "tags": []
   },
   "source": [
    "### Test / Train split"
   ]
  },
  {
   "cell_type": "code",
   "execution_count": null,
   "metadata": {},
   "outputs": [],
   "source": [
    "train_dataset=graTrain\n",
    "test_dataset=graTest\n",
    "\n",
    "print(\"Number of train buckets: \", len(set(train_dataset)))\n",
    "print(\"Number of test buckets: \", len(set(test_dataset)))"
   ]
  },
  {
   "cell_type": "markdown",
   "metadata": {
    "papermill": {
     "duration": 0.019118,
     "end_time": "2021-12-26T14:44:45.325730",
     "exception": false,
     "start_time": "2021-12-26T14:44:45.306612",
     "status": "completed"
    },
    "tags": []
   },
   "source": [
    "### Dataloaders\n"
   ]
  },
  {
   "cell_type": "code",
   "execution_count": null,
   "metadata": {},
   "outputs": [],
   "source": [
    "batch_size=64"
   ]
  },
  {
   "cell_type": "code",
   "execution_count": null,
   "metadata": {
    "execution": {
     "iopub.execute_input": "2021-12-26T14:44:45.374077Z",
     "iopub.status.busy": "2021-12-26T14:44:45.373097Z",
     "iopub.status.idle": "2021-12-26T14:45:16.840268Z",
     "shell.execute_reply": "2021-12-26T14:45:16.839682Z",
     "shell.execute_reply.started": "2021-12-26T14:27:36.727755Z"
    },
    "papermill": {
     "duration": 31.495574,
     "end_time": "2021-12-26T14:45:16.840390",
     "exception": false,
     "start_time": "2021-12-26T14:44:45.344816",
     "status": "completed"
    },
    "tags": []
   },
   "outputs": [],
   "source": [
    "train_input = np.array(train_dataset.features) # (5074, 222, 24, 1)\n",
    "train_target = np.array(train_dataset.targets) # (5074, 207, 1)\n",
    "train_x_tensor = torch.from_numpy(train_input).type(torch.FloatTensor)  # (B, N, F, T)\n",
    "train_target_tensor = torch.from_numpy(train_target).type(torch.FloatTensor)  # (B, N, T)\n",
    "train_dataset_new = torch.utils.data.TensorDataset(train_x_tensor, train_target_tensor)\n",
    "train_loader = torch.utils.data.DataLoader(train_dataset_new, batch_size=batch_size,drop_last=True)"
   ]
  },
  {
   "cell_type": "code",
   "execution_count": null,
   "metadata": {
    "execution": {
     "iopub.execute_input": "2021-12-26T14:45:16.886780Z",
     "iopub.status.busy": "2021-12-26T14:45:16.885865Z",
     "iopub.status.idle": "2021-12-26T14:45:17.010178Z",
     "shell.execute_reply": "2021-12-26T14:45:17.009681Z",
     "shell.execute_reply.started": "2021-12-26T14:28:07.974097Z"
    },
    "papermill": {
     "duration": 0.150197,
     "end_time": "2021-12-26T14:45:17.010312",
     "exception": false,
     "start_time": "2021-12-26T14:45:16.860115",
     "status": "completed"
    },
    "tags": []
   },
   "outputs": [],
   "source": [
    "test_input = np.array(test_dataset.features) # (, 207, 2, 12)\n",
    "test_target = np.array(test_dataset.targets) # (, 207, 12)\n",
    "test_x_tensor = torch.from_numpy(test_input).type(torch.FloatTensor)# (B, N, F, T)\n",
    "test_target_tensor = torch.from_numpy(test_target).type(torch.FloatTensor) # (B, N, T)\n",
    "test_dataset_new = torch.utils.data.TensorDataset(test_x_tensor, test_target_tensor)\n",
    "test_loader = torch.utils.data.DataLoader(test_dataset_new, batch_size=batch_size,drop_last=True)"
   ]
  },
  {
   "cell_type": "markdown",
   "metadata": {
    "papermill": {
     "duration": 0.020038,
     "end_time": "2021-12-26T14:45:17.343900",
     "exception": false,
     "start_time": "2021-12-26T14:45:17.323862",
     "status": "completed"
    },
    "tags": []
   },
   "source": [
    "Loading the graph once because it's a static graph"
   ]
  },
  {
   "cell_type": "code",
   "execution_count": null,
   "metadata": {
    "execution": {
     "iopub.execute_input": "2021-12-26T14:45:17.387739Z",
     "iopub.status.busy": "2021-12-26T14:45:17.387103Z",
     "iopub.status.idle": "2021-12-26T14:45:17.390422Z",
     "shell.execute_reply": "2021-12-26T14:45:17.389947Z",
     "shell.execute_reply.started": "2021-12-25T23:05:32.742421Z"
    },
    "papermill": {
     "duration": 0.026807,
     "end_time": "2021-12-26T14:45:17.390513",
     "exception": false,
     "start_time": "2021-12-26T14:45:17.363706",
     "status": "completed"
    },
    "tags": []
   },
   "outputs": [],
   "source": [
    "for snapshot in train_dataset:\n",
    "    static_edge_index = snapshot.edge_index\n",
    "    break;"
   ]
  },
  {
   "cell_type": "markdown",
   "metadata": {
    "papermill": {
     "duration": 0.018547,
     "end_time": "2021-12-26T14:45:17.122157",
     "exception": false,
     "start_time": "2021-12-26T14:45:17.103610",
     "status": "completed"
    },
    "tags": []
   },
   "source": [
    "## Hybrid Network  [ A3TGCN Model + LSTM]\n"
   ]
  },
  {
   "cell_type": "code",
   "execution_count": null,
   "metadata": {
    "execution": {
     "iopub.execute_input": "2021-12-26T14:45:17.167230Z",
     "iopub.status.busy": "2021-12-26T14:45:17.166722Z",
     "iopub.status.idle": "2021-12-26T14:45:17.181682Z",
     "shell.execute_reply": "2021-12-26T14:45:17.181219Z",
     "shell.execute_reply.started": "2021-12-26T14:28:08.105670Z"
    },
    "papermill": {
     "duration": 0.041032,
     "end_time": "2021-12-26T14:45:17.181766",
     "exception": false,
     "start_time": "2021-12-26T14:45:17.140734",
     "status": "completed"
    },
    "tags": []
   },
   "outputs": [],
   "source": [
    "class TemporalGNN(torch.nn.Module):\n",
    "    def __init__(self, node_features, periods, batch_size):\n",
    "        super(TemporalGNN, self).__init__()\n",
    "        \n",
    "        self.tgnn = A3TGCN2(in_channels=node_features,  out_channels=128, periods=periods,batch_size=batch_size) # node_features=2, periods=12       \n",
    "        self.hidden2 = Linear(128, 64)\n",
    "        \n",
    "        kaiming_uniform_(self.hidden2.weight, nonlinearity='relu')\n",
    "        self.act2 = ReLU()\n",
    "        \n",
    "        self.lstm = nn.LSTM(64, 32, 1, batch_first=True, bidirectional=True)\n",
    "        \n",
    "        self.hidden4 = Linear(64, 16)\n",
    "        kaiming_uniform_(self.hidden4.weight, nonlinearity='relu')\n",
    "        self.act4 = ReLU()\n",
    "\n",
    "        self.linear = torch.nn.Linear(16, periods)\n",
    "        \n",
    "\n",
    "    def forward(self, x, edge_index):\n",
    "        h = self.tgnn(x, edge_index)\n",
    "        h = F.relu(h)\n",
    "\n",
    "        h0 = torch.zeros(2, h.size(0), 32).requires_grad_()\n",
    "        c0 = torch.zeros(2, h.size(0), 32).requires_grad_()\n",
    "          \n",
    "        h = self.hidden2(h)\n",
    "        h = self.act2(h)\n",
    "        \n",
    "        out, (hn, cn) = self.lstm(h, (h0.detach(), c0.detach()))\n",
    "        \n",
    "        out = self.hidden4(out)\n",
    "        out = self.act4(out)\n",
    "        \n",
    "        out = self.linear(out) \n",
    "        return out\n",
    "\n",
    "TemporalGNN(node_features=28, periods=1, batch_size=batch_size)"
   ]
  },
  {
   "cell_type": "markdown",
   "metadata": {},
   "source": [
    "## Training and Evaluation Process"
   ]
  },
  {
   "cell_type": "markdown",
   "metadata": {},
   "source": [
    "Cost & Error Function Calculation for raw Testset"
   ]
  },
  {
   "cell_type": "code",
   "execution_count": null,
   "metadata": {
    "execution": {
     "iopub.execute_input": "2021-12-26T14:46:13.301157Z",
     "iopub.status.busy": "2021-12-26T14:46:13.300285Z",
     "iopub.status.idle": "2021-12-26T14:46:23.410533Z",
     "shell.execute_reply": "2021-12-26T14:46:23.411181Z",
     "shell.execute_reply.started": "2021-12-25T22:37:06.708018Z"
    },
    "papermill": {
     "duration": 10.1385,
     "end_time": "2021-12-26T14:46:23.411366",
     "exception": false,
     "start_time": "2021-12-26T14:46:13.272866",
     "status": "completed"
    },
    "tags": []
   },
   "outputs": [],
   "source": [
    "def GetTest_MAE_MSE(model,test_loader,metric_fn,TestMask):\n",
    "    model.eval()\n",
    "    step = 0\n",
    "    total_loss = []\n",
    "    Predictions=[]\n",
    "    true=[]\n",
    "    Test_Mask=pd.read_csv(TestMask,index_col=0)\n",
    "\n",
    "    Test_Mask['New']=0\n",
    "    Test_Mask=Test_Mask.T\n",
    "    Test_Mask=Test_Mask.values.tolist()\n",
    "    P=[]\n",
    "    R=[]\n",
    "    for encoder_inputs, labels in test_loader:\n",
    "        # Get model predictions\n",
    "        y_hat = model(encoder_inputs, static_edge_index)\n",
    "        # Mean squared error\n",
    "        for ii in range (0,len(y_hat)):\n",
    "            Predictions.append(y_hat[ii])\n",
    "\n",
    "        for kk in range (0,len(labels)):\n",
    "            true.append(labels[kk])\n",
    "\n",
    "        loss = metric_fn(y_hat, labels)\n",
    "        total_loss.append(loss.item())\n",
    "    \n",
    "    for i in range(0,(len(Predictions))):\n",
    "        for k in range (0,len(Test_Mask[0])):\n",
    "            if Test_Mask[i][k]==1:\n",
    "                P1=Predictions[i][k]\n",
    "                P.append(float(P1))\n",
    "                R1=true[i][k]\n",
    "                R.append(float(R1))\n",
    "    MAE=tf.keras.metrics.mean_absolute_error(R, P)\n",
    "    MSE=tf.keras.metrics.mean_squared_error(R, P)\n",
    "    return MAE,MSE"
   ]
  },
  {
   "cell_type": "markdown",
   "metadata": {},
   "source": [
    "### Training for 25 epochs"
   ]
  },
  {
   "cell_type": "code",
   "execution_count": null,
   "metadata": {
    "execution": {
     "iopub.execute_input": "2021-12-26T14:45:17.437982Z",
     "iopub.status.busy": "2021-12-26T14:45:17.437484Z",
     "iopub.status.idle": "2021-12-26T14:46:13.161937Z",
     "shell.execute_reply": "2021-12-26T14:46:13.161017Z",
     "shell.execute_reply.started": "2021-12-25T23:05:32.751777Z"
    },
    "papermill": {
     "duration": 55.751589,
     "end_time": "2021-12-26T14:46:13.162096",
     "exception": false,
     "start_time": "2021-12-26T14:45:17.410507",
     "status": "completed"
    },
    "scrolled": true,
    "tags": []
   },
   "outputs": [],
   "source": [
    "model = TemporalGNN(node_features=28, periods=1, batch_size=batch_size)\n",
    "optimizer = torch.optim.RMSprop(model.parameters(), lr=0.001)\n",
    "loss_fn = torch.nn.MSELoss()\n",
    "metric_fn=torch.nn.L1Loss()\n",
    "\n",
    "model.train()\n",
    "Test_MAE=[]\n",
    "Test_MSE=[]\n",
    "Train_Loss=[]\n",
    "for epoch in range(1,25):\n",
    "    step = 0\n",
    "    loss_list = []\n",
    "    for encoder_inputs, labels in tqdm(train_loader):\n",
    "        y_hat = model(encoder_inputs, static_edge_index)         # Get model predictions\n",
    "        loss = loss_fn(y_hat, labels) # Mean squared error #loss = torch.mean((y_hat-labels)**2)  sqrt to change it to rmse\n",
    "        loss.backward()\n",
    "        optimizer.step()\n",
    "        optimizer.zero_grad()\n",
    "        step= step+ 1\n",
    "        loss_list.append(loss.item())\n",
    "    \n",
    "    Loss=sum(loss_list)/len(loss_list)\n",
    "    print(\"Epoch {} train MSE: {:.4f}\".format(epoch, Loss))\n",
    "    MAE,MSE=GetTest_MAE_MSE(model,test_loader,metric_fn,TestMask)\n",
    "    Test_MAE.append(float(MAE))\n",
    "    Test_MSE.append(float(MSE))\n",
    "    Train_Loss.append(Loss)\n",
    "    print(\"Test MAE: {:.4f}\".format(MAE))\n",
    "    print(\"Test MSE: {:.4f}\".format(MSE))"
   ]
  },
  {
   "cell_type": "markdown",
   "metadata": {},
   "source": [
    "### Experiments with Other Architectures "
   ]
  },
  {
   "cell_type": "code",
   "execution_count": null,
   "metadata": {},
   "outputs": [],
   "source": [
    "class TemporalGNN_RNN(torch.nn.Module):\n",
    "    def __init__(self, node_features, periods, batch_size, gcn, filter_size):\n",
    "        super(TemporalGNN_RNN, self).__init__()\n",
    "        \n",
    "        if gcn == 'A3TGCN2':\n",
    "            self.tgnn = A3TGCN2(in_channels=node_features, periods=periods, out_channels=64, batch_size=batch_size, cached=True)\n",
    "        elif gcn == 'DCRNN':\n",
    "            self.tgnn = DCRNN(in_channels=node_features, out_channels=64, K=periods)\n",
    "        elif gcn == 'TGCN2':\n",
    "            self.tgnn = TGCN2(in_channels=node_features, out_channels=64, batch_size=batch_size, cached=True)\n",
    "        elif gcn == 'TGCN':\n",
    "            self.tgnn = TGCN(in_channels=node_features, out_channels=64, cached=True)\n",
    "        elif gcn == 'GConvGRU':\n",
    "            self.tgnn = GConvGRU(in_channels=node_features, out_channels=64, K=filter_size)\n",
    "\n",
    "        self.hidden2 = Linear(64, 32)        \n",
    "        self.act2 = ReLU()\n",
    "        \n",
    "        self.lstm = torch.nn.LSTM(32, 16, 1, batch_first=True, bidirectional=True)\n",
    "        \n",
    "        self.hidden3 = Linear(32, 16)\n",
    "        self.act3 = ReLU()        \n",
    "\n",
    "        self.linear = torch.nn.Linear(16, periods)       \n",
    "\n",
    "    def forward(self, x, edge_index, edge_weight):\n",
    "        h = self.tgnn(x, edge_index, edge_weight)\n",
    "        h = F.relu(h)\n",
    "\n",
    "        h = self.hidden2(h)\n",
    "        h = self.act2(h)\n",
    "        \n",
    "        h = self.hidden3(h)\n",
    "        h = self.act3(h)\n",
    "        \n",
    "        out = self.linear(h) \n",
    "        return out"
   ]
  },
  {
   "cell_type": "code",
   "execution_count": null,
   "metadata": {},
   "outputs": [],
   "source": [
    "class TemporalGNN_LSTM(torch.nn.Module):\n",
    "    def __init__(self, node_features, periods, batch_size, gcn, filter_size):\n",
    "        super(TemporalGNN_LSTM, self).__init__()\n",
    "        \n",
    "        if gcn == 'GConvLSTM':\n",
    "            self.tgnn = GConvLSTM(in_channels=node_features, out_channels=64, K=filter_size)\n",
    "        elif gcn == 'GCLSTM':\n",
    "            self.tgnn = GCLSTM(in_channels=node_features, out_channels=64, K=filter_size)\n",
    "\n",
    "        self.hidden2 = Linear(64, 32)        \n",
    "        self.act2 = ReLU()\n",
    "        \n",
    "        self.lstm = torch.nn.LSTM(32, 16, 1, batch_first=True, bidirectional=True)\n",
    "            \n",
    "        self.hidden3 = Linear(32, 16)\n",
    "        self.act3 = ReLU()        \n",
    "\n",
    "        self.linear = torch.nn.Linear(16, periods)       \n",
    "\n",
    "    def forward(self, x, edge_index, edge_weight):\n",
    "        h, _ = self.tgnn(x, edge_index, edge_weight)\n",
    "        h = F.relu(h)\n",
    "\n",
    "        h0 = torch.zeros(2, h.size(0), 16).requires_grad_()\n",
    "        c0 = torch.zeros(2, h.size(0), 16).requires_grad_()\n",
    "        \n",
    "        h = self.hidden2(h)\n",
    "        h = self.act2(h)\n",
    "        \n",
    "        h = self.hidden3(h)\n",
    "        h = self.act3(h)\n",
    "        \n",
    "        out = self.linear(h) \n",
    "        return out"
   ]
  },
  {
   "cell_type": "code",
   "execution_count": null,
   "metadata": {},
   "outputs": [],
   "source": [
    "gcn_list = ['A3TGCN2', 'DCRNN', 'TGCN', 'TGCN2', 'GConvGRU', 'GConvLSTM', 'GCLSTM']\n",
    "recurent_type_list = ['RNN','TGCN2_BiDirectionalLSTM', 'TGCN2_LSTM', 'LSTM']\n",
    "gcn = gcn_list[4]\n",
    "recurent_type = recurent_type_list[0]\n",
    "squeeze_input = True\n",
    "filter_size = 3"
   ]
  },
  {
   "cell_type": "code",
   "execution_count": null,
   "metadata": {},
   "outputs": [],
   "source": [
    "if (recurent_type == 'RNN') or (recurent_type == 'LSTM'):\n",
    "    print('Graph Convolutional Network: ' + gcn)\n",
    "else:\n",
    "     print('Graph Convolutional Network: ' + recurent_type)\n",
    "    \n",
    "model, metrics_test = model_training(node_features, recurent_steps, lr, epochs, train_loader, test_loader, loss_fn,\n",
    "                                     gcn, filter_size, squeeze_input, recurent_type, num_nodes)"
   ]
  },
  {
   "cell_type": "code",
   "execution_count": null,
   "metadata": {},
   "outputs": [],
   "source": [
    "def model_training(node_features,batch_size,lr,epochs,train_loader,val_loader,loss_fn,\n",
    "                   gcn, filter_size, squeeze_input,arch,num_nodes):\n",
    "    if arch == 'RNN':\n",
    "        model = TemporalGNN_RNN(node_features=node_features, periods=1, batch_size=batch_size,\n",
    "                            gcn=gcn, filter_size=filter_size)\n",
    "    \n",
    "    elif arch == 'LSTM':\n",
    "        model = TemporalGNN_LSTM(node_features=node_features, periods=1, batch_size=batch_size,\n",
    "\n",
    "\n",
    "    optimizer = torch.optim.RMSprop(model.parameters(), lr=0.001)\n",
    "    loss_fn = torch.nn.MSELoss()\n",
    "    metric_fn=torch.nn.L1Loss()\n",
    "\n",
    "    model.train()\n",
    "    Test_MAE=[]\n",
    "    Test_MSE=[]\n",
    "    Train_Loss=[]\n",
    "    for epoch in range(1,25):\n",
    "        step = 0\n",
    "        loss_list = []\n",
    "        for encoder_inputs, labels in tqdm(train_loader):\n",
    "            y_hat = model(encoder_inputs, static_edge_index)         # Get model predictions\n",
    "            loss = loss_fn(y_hat, labels) # Mean squared error #loss = torch.mean((y_hat-labels)**2)  sqrt to change it to rmse\n",
    "            loss.backward()\n",
    "            optimizer.step()\n",
    "            optimizer.zero_grad()\n",
    "            step= step+ 1\n",
    "            loss_list.append(loss.item())\n",
    "\n",
    "        Loss=sum(loss_list)/len(loss_list)\n",
    "        print(\"Epoch {} train MSE: {:.4f}\".format(epoch, Loss))\n",
    "        MAE,MSE=GetTest_MAE_MSE(model,test_loader,metric_fn,TestMask)\n",
    "        Test_MAE.append(float(MAE))\n",
    "        Test_MSE.append(float(MSE))\n",
    "        Train_Loss.append(Loss)\n",
    "        print(\"Test MAE: {:.4f}\".format(MAE))\n",
    "        print(\"Test MSE: {:.4f}\".format(MSE))"
   ]
  },
  {
   "cell_type": "markdown",
   "metadata": {},
   "source": [
    "### Calculate Model Metrics (FLOPs,MACs,Params)"
   ]
  },
  {
   "cell_type": "code",
   "execution_count": null,
   "metadata": {},
   "outputs": [],
   "source": [
    "model = TemporalGNN(node_features=28, periods=1, batch_size=batch_size)\n",
    "batch_size = 64\n",
    "input_shape = (batch_size, 5074, 222, 28)\n",
    "flops, macs, params = calculate_flops(model=model, \n",
    "                                      input_shape=input_shape,\n",
    "                                      output_as_string=True,\n",
    "                                      output_precision=4)\n",
    "print(\" FLOPs:%s   MACs:%s   Params:%s \\n\" %(flops, macs, params))"
   ]
  },
  {
   "cell_type": "markdown",
   "metadata": {},
   "source": [
    "### Calculate Model Metrics (FLOPs,Params, Size) for State of the Art"
   ]
  },
  {
   "cell_type": "code",
   "execution_count": null,
   "metadata": {},
   "outputs": [],
   "source": [
    "# Step 3: Define the TemporalGNN_RNN model\n",
    "class TemporalGNN_RNN(nn.Module):\n",
    "    def __init__(self, node_features, periods, batch_size, gcn, filter_size):\n",
    "        super(TemporalGNN_RNN, self).__init__()\n",
    "\n",
    "        if gcn == 'A3TGCN2':\n",
    "            self.tgnn = A3TGCN2(in_channels=node_features, periods=periods, out_channels=64, batch_size=batch_size, cached=True)\n",
    "        elif gcn == 'A3TGCN':\n",
    "            self.tgnn = A3TGCN(in_channels=node_features, periods=64, out_channels=64, cached=True)\n",
    "        elif gcn == 'DCRNN':\n",
    "            self.tgnn = DCRNN(in_channels=node_features, out_channels=64, K=periods)\n",
    "        elif gcn == 'TGCN2':\n",
    "            self.tgnn = TGCN2(in_channels=node_features, out_channels=32, batch_size=batch_size, cached=True)\n",
    "        elif gcn == 'TGCN':\n",
    "            self.tgnn = TGCN(in_channels=node_features, out_channels=64, cached=True)\n",
    "        elif gcn == 'GConvGRU':\n",
    "            self.tgnn = GConvGRU(in_channels=node_features, out_channels=64, K=filter_size)\n",
    "\n",
    "        self.hidden2 = Linear(64, 16)\n",
    "        self.act2 = ReLU()\n",
    "\n",
    "        self.linear = torch.nn.Linear(16, periods)\n",
    "\n",
    "    def forward(self, x, edge_index, edge_weights):\n",
    "        h = self.tgnn(x, edge_index, edge_weights)\n",
    "        h = F.relu(h)\n",
    "\n",
    "        h = self.hidden2(h)\n",
    "        h = self.act2(h)\n",
    "\n",
    "        out = self.linear(h)\n",
    "        return out\n",
    "\n",
    "# Step 4: Create a function to perform FLOPs and parameter analysis\n",
    "def analyze_model(node_features, periods, batch_size, gcn, filter_size):\n",
    "    model = TemporalGNN_RNN(node_features, periods, batch_size, gcn, filter_size)\n",
    "\n",
    "    # Create sample input\n",
    "    num_nodes = 222  # Example number of nodes in the graph\n",
    "    edge_index = torch.randint(0, num_nodes, (2, num_nodes * 2))  # Example edge indices\n",
    "    edge_weights = torch.rand(num_nodes * 2)  # Example edge weights\n",
    "    \n",
    "    if gcn in ['A3TGCN2', 'A3TGCN', 'TGCN2', 'TGCN']:\n",
    "        x = torch.rand(num_nodes, node_features)  # Example node features\n",
    "    else:\n",
    "        x = torch.rand(num_nodes, periods, node_features)  # Example node features for other models\n",
    "\n",
    "    # Perform FLOPs and parameter analysis\n",
    "    flop_counter = FlopCountAnalysis(model, (x, edge_index, edge_weights))\n",
    "    flops = flop_counter.total()\n",
    "    params = sum(p.numel() for p in model.parameters())\n",
    "    param_table = parameter_count_table(model)\n",
    "\n",
    "    # Calculate the model size in MB\n",
    "    model_size_mb = params * 4 / (1024 ** 2)  # assuming float32 (4 bytes per parameter)\n",
    "\n",
    "    # Print the results\n",
    "    print(f\"Model: {gcn}\")\n",
    "    print(f\"Total FLOPs: {flops}\")\n",
    "    print(f\"Total Parameters: {params}\")\n",
    "    print(param_table)\n",
    "    print(f\"Model Size: {model_size_mb:.2f} MB\")\n",
    "    print('-' * 40)\n",
    "\n",
    "# Step 5: Analyze all model configurations\n",
    "node_features = 28  # Example input feature dimension\n",
    "periods = 10  # Example number of periods (output dimension)\n",
    "batch_size = 32  # Example batch size\n",
    "filter_size = 2  # Example filter size for GConvGRU\n",
    "\n",
    "models = ['A3TGCN2', 'A3TGCN', 'DCRNN', 'TGCN2', 'TGCN', 'GConvGRU']\n",
    "for model_name in models:\n",
    "    analyze_model(node_features, periods, batch_size, model_name, filter_size)\n"
   ]
  }
 ],
 "metadata": {
  "kernelspec": {
   "display_name": "full_ml",
   "language": "python",
   "name": "full_ml"
  },
  "language_info": {
   "codemirror_mode": {
    "name": "ipython",
    "version": 3
   },
   "file_extension": ".py",
   "mimetype": "text/x-python",
   "name": "python",
   "nbconvert_exporter": "python",
   "pygments_lexer": "ipython3",
   "version": "3.8.13"
  },
  "papermill": {
   "duration": 159.672275,
   "end_time": "2021-12-26T14:46:24.067327",
   "environment_variables": {},
   "exception": null,
   "input_path": "__notebook__.ipynb",
   "output_path": "__notebook__.ipynb",
   "parameters": {},
   "start_time": "2021-12-26T14:43:44.395052",
   "version": "2.1.0"
  }
 },
 "nbformat": 4,
 "nbformat_minor": 4
}
